{
 "cells": [
  {
   "cell_type": "markdown",
   "id": "3c3ca822",
   "metadata": {},
   "source": [
    "# Solving Nonlinear Equations\n",
    "## Bisection Method\n",
    "#### Assumptions: \n",
    "(1)$f(x)$ continuous in [$a_0,b_0$]<br />\n",
    "(2)$f(a)f(b)≤0$"
   ]
  },
  {
   "cell_type": "code",
   "execution_count": 1,
   "id": "930e4f1b",
   "metadata": {
    "tags": []
   },
   "outputs": [],
   "source": [
    "import numpy as np\n",
    "import pandas as pd\n",
    "import math\n",
    "import numdifftools as nd\n",
    "from scipy.stats import norm\n",
    "from scipy.optimize import fsolve"
   ]
  },
  {
   "cell_type": "code",
   "execution_count": 10,
   "id": "738d0e8d-a929-426b-8c74-55f6900f4bb7",
   "metadata": {
    "tags": []
   },
   "outputs": [],
   "source": [
    "#f should be a function, a and b could be figures.\n",
    "def bisection(f,a,b,epsilon):\n",
    "    # Use lists to record the convergence speed.\n",
    "    a_list = []\n",
    "    b_list = []\n",
    "    leftvalue = f(a)\n",
    "    rightvalue = f(b)\n",
    "    a_list.append(a)\n",
    "    b_list.append(b)\n",
    "    flag = 0\n",
    "    \n",
    "    #If the assumption fails.\n",
    "    if leftvalue*rightvalue > 0:\n",
    "        print(\"The functions have the same sign at end points,\\nPlease change to another end points.\")\n",
    "        return None\n",
    "    \n",
    "    #If the assumption is satisfied.\n",
    "    else:\n",
    "        while b-a > 2*epsilon:\n",
    "            mid = (a+b)/2\n",
    "            midvalue = f(mid)\n",
    "            if leftvalue*midvalue < 0:\n",
    "                b = mid\n",
    "                a_list.append(a)\n",
    "                b_list.append(b)\n",
    "            elif rightvalue*midvalue < 0:\n",
    "                a = mid\n",
    "                a_list.append(a)\n",
    "                b_list.append(b)\n",
    "                '''\n",
    "                if the midpoint is just the answer, then break the loop.\n",
    "                I don't think this would slow down the function as this is the last condition to execute.\n",
    "                ''' \n",
    "            else:\n",
    "                a_list.append(a)\n",
    "                b_list.append(b)\n",
    "                break\n",
    "        flag = 1\n",
    "        process = pd.DataFrame({\n",
    "            \"Left Value\":a_list,\n",
    "            \"Right Value\":b_list\n",
    "        })\n",
    "        result = (a+b)/2\n",
    "        print(process)\n",
    "        return result"
   ]
  },
  {
   "cell_type": "markdown",
   "id": "2cefb187",
   "metadata": {},
   "source": [
    "#### Examples:\n",
    "$f(x) = x-cosx, a=0, b=1$"
   ]
  },
  {
   "cell_type": "code",
   "execution_count": 11,
   "id": "475bdc5d-b269-40aa-aaea-96773d58fd3f",
   "metadata": {
    "tags": []
   },
   "outputs": [],
   "source": [
    "def xcos(x):\n",
    "    y = x-math.cos(x)\n",
    "    return y"
   ]
  },
  {
   "cell_type": "code",
   "execution_count": 12,
   "id": "553ab9b1",
   "metadata": {
    "tags": []
   },
   "outputs": [
    {
     "name": "stdout",
     "output_type": "stream",
     "text": [
      "    Left Value  Right Value\n",
      "0     0.000000     9.500000\n",
      "1     0.000000     4.750000\n",
      "2     0.000000     2.375000\n",
      "3     0.000000     1.187500\n",
      "4     0.593750     1.187500\n",
      "5     0.593750     0.890625\n",
      "6     0.593750     0.742188\n",
      "7     0.667969     0.742188\n",
      "8     0.705078     0.742188\n",
      "9     0.723633     0.742188\n",
      "10    0.732910     0.742188\n",
      "11    0.737549     0.742188\n",
      "12    0.737549     0.739868\n",
      "13    0.738708     0.739868\n",
      "14    0.738708     0.739288\n",
      "15    0.738998     0.739288\n",
      "16    0.738998     0.739143\n",
      "The zero point is: 0.7391\n"
     ]
    }
   ],
   "source": [
    "zero_point = bisection(xcos,0,9.5,0.0001)\n",
    "print(\"The zero point is: {:.4f}\".format(zero_point))"
   ]
  },
  {
   "cell_type": "markdown",
   "id": "1bcad0e6",
   "metadata": {},
   "source": [
    "#### Practicle issue:\n",
    "(1)Only return one result when there are multiple answers.<br/>\n",
    "(2)If $f(x)$ is just tangent at the zeropoint, the method would fail.<br/>\n",
    "(3)Convergence speed is quite slow.<br/>"
   ]
  },
  {
   "cell_type": "markdown",
   "id": "71318cb8-269a-4670-bd62-715f7472b17f",
   "metadata": {},
   "source": [
    "## Fixed Point Iteration (Advanced Edition)\n",
    "#### Assumptions:\n",
    "(1)Φ is a contracting mapping on some neighborhood $(x^*-δ,x^*+δ) (δ>0)$<br/>\n",
    "(2)$x_0$ lies in $(x^*-δ,x^*+δ)$<br/>\n",
    "P.S. This edition use $λ_n=-Φ'(x_n)$ to increase the convergence speed."
   ]
  },
  {
   "cell_type": "code",
   "execution_count": 13,
   "id": "219ee4ea-2687-4a5a-8cec-4f07eeb2b109",
   "metadata": {
    "tags": []
   },
   "outputs": [],
   "source": [
    "# Construct a function to help me do derivatives.\n",
    "def d(f,x):\n",
    "    df = nd.Derivative(f)\n",
    "    return float(df(x))"
   ]
  },
  {
   "cell_type": "code",
   "execution_count": 14,
   "id": "9f3863bf-24e7-4fbd-9f25-c4c9fed5d466",
   "metadata": {
    "tags": []
   },
   "outputs": [],
   "source": [
    "#f should be a function, x is the initial value and epsilon is the acceptable error.\n",
    "def FPI(f,x0,epsilon):\n",
    "    # Use list to record the convergence speed.\n",
    "    x_list = [x0]\n",
    "    lambd = d(f,x0)\n",
    "    x1 = (f(x0)/(1-lambd))-((lambd*x0)/(1-lambd))\n",
    "    x_list.append(x1)\n",
    "    flag = 0\n",
    "    \n",
    "    while abs(x1-x0) > epsilon:\n",
    "        x0 = x1\n",
    "        lambd = d(f,x0)\n",
    "        x1 = f(x0)/(1-lambd)-lambd*x0/(1-lambd)\n",
    "        x_list.append(x1)\n",
    "    flag = 1\n",
    "    process = pd.DataFrame({\"x\":x_list})\n",
    "    print(process)\n",
    "    return x1"
   ]
  },
  {
   "cell_type": "markdown",
   "id": "4b397689-2715-4e5c-8ef6-7005100a4087",
   "metadata": {},
   "source": [
    "#### Examples:\n",
    "$f(x)=cos(x), x_0=0.75$"
   ]
  },
  {
   "cell_type": "code",
   "execution_count": 15,
   "id": "61019e48-afe4-4338-9a0b-7880c0e82c69",
   "metadata": {
    "tags": []
   },
   "outputs": [
    {
     "name": "stdout",
     "output_type": "stream",
     "text": [
      "          x\n",
      "0  0.750000\n",
      "1  0.739111\n",
      "2  0.739085\n",
      "The zero point is: 0.7391\n"
     ]
    }
   ],
   "source": [
    "def cos(x):\n",
    "    y = math.cos(x)\n",
    "    return y\n",
    "\n",
    "zero_point = FPI(cos,0.75,0.0001)\n",
    "print(\"The zero point is: {:.4f}\".format(zero_point))"
   ]
  },
  {
   "cell_type": "markdown",
   "id": "8dadc1b8-98a1-43f0-887b-ff7a23fa20fd",
   "metadata": {},
   "source": [
    "## Newton's Method\n",
    "#### Assumptions:\n",
    "(1)$f(x)$ has Lipschitz constant $L>0$ on $(a,b)$<br/>\n",
    "(2)$|f'(x)|$ is bounded awat from zero on $(a,b)$<br/>\n"
   ]
  },
  {
   "cell_type": "code",
   "execution_count": 16,
   "id": "5ac61557",
   "metadata": {
    "tags": []
   },
   "outputs": [],
   "source": [
    "def Newton(f,x0,epsilon):\n",
    "    # Use list to record the convergence speed.\n",
    "    x_list = [x0]\n",
    "    df = d(f,x0)\n",
    "    x1 = x0-f(x0)/df\n",
    "    x_list.append(x1)\n",
    "    flag = 0\n",
    "    \n",
    "    while abs(x1-x0) > epsilon:\n",
    "        x0 = x1\n",
    "        df = d(f,x0)\n",
    "        x1 = x0-f(x0)/df\n",
    "        x_list.append(x1)\n",
    "    flag = 1\n",
    "    process = pd.DataFrame({\"x\":x_list})\n",
    "    print(process)\n",
    "    return x1"
   ]
  },
  {
   "cell_type": "markdown",
   "id": "12eb7436",
   "metadata": {},
   "source": [
    "#### Examples:\n",
    "$f(x)=x-cos(x),x_0=0.75$"
   ]
  },
  {
   "cell_type": "code",
   "execution_count": 17,
   "id": "06bb5a40",
   "metadata": {
    "tags": []
   },
   "outputs": [
    {
     "name": "stdout",
     "output_type": "stream",
     "text": [
      "          x\n",
      "0  0.750000\n",
      "1  0.739111\n",
      "2  0.739085\n",
      "The zero point is: 0.7391\n"
     ]
    }
   ],
   "source": [
    "# xcos has already been defined above.\n",
    "zero_point = Newton(xcos,0.75,0.0001)\n",
    "print(\"The zero point is: {:.4f}\".format(zero_point))"
   ]
  },
  {
   "cell_type": "markdown",
   "id": "4446a4a5-ccb9-4c0b-84e3-fc2247be1db3",
   "metadata": {},
   "source": [
    "## Secant Method"
   ]
  },
  {
   "cell_type": "code",
   "execution_count": 18,
   "id": "de53bfd5-1814-450d-90ce-3646b3142c1b",
   "metadata": {
    "tags": []
   },
   "outputs": [],
   "source": [
    "#f should be a function, x1 and x2 are the initial values and epsilon is the acceptable error.\n",
    "def Secant(f,x0,x1,epsilon):\n",
    "    # Use list to record the convergence speed.\n",
    "    x_list = [x0,x1]\n",
    "    x2 = x1-f(x1)*(x1-x0)/(f(x1)-f(x0))\n",
    "    x_list.append(x2)\n",
    "    flag = 0\n",
    "    \n",
    "    while abs(x2-x1) > epsilon:\n",
    "        x0 = x1\n",
    "        x1 = x2\n",
    "        x2 = x1-f(x1)*(x1-x0)/(f(x1)-f(x0))\n",
    "        x_list.append(x2)\n",
    "    flag = 1\n",
    "    process = pd.DataFrame({\"x\":x_list})\n",
    "    print(process)\n",
    "    return x2  "
   ]
  },
  {
   "cell_type": "markdown",
   "id": "d0ca4b4d-ee3a-448d-923b-3030c486da66",
   "metadata": {},
   "source": [
    "#### Examples:\n",
    "$f(x)=x-cos(x),x_0=0.80,x_1=0.75$"
   ]
  },
  {
   "cell_type": "code",
   "execution_count": 19,
   "id": "c542aa2b-187b-4011-b3de-d8fcf1a7efae",
   "metadata": {
    "tags": []
   },
   "outputs": [
    {
     "name": "stdout",
     "output_type": "stream",
     "text": [
      "          x\n",
      "0  0.800000\n",
      "1  0.750000\n",
      "2  0.739226\n",
      "3  0.739085\n",
      "4  0.739085\n",
      "The zero point is: 0.7391\n"
     ]
    }
   ],
   "source": [
    "# xcos has already been defined above.\n",
    "zero_point = Secant(xcos,0.8,0.75,0.0001)\n",
    "print(\"The zero point is: {:.4f}\".format(zero_point))"
   ]
  },
  {
   "cell_type": "markdown",
   "id": "76a95783-43d2-4f60-aa43-a9e7d6e0593d",
   "metadata": {},
   "source": [
    "## fsolve()\n",
    "Python also has fsolve function which could solve nonlinear equation.\n",
    "P.S. The output of fsolve would always be an ndarray.\n",
    "#### Examples:\n",
    "$f(x)=x-cos(x),x_0=0.75$"
   ]
  },
  {
   "cell_type": "code",
   "execution_count": 20,
   "id": "38792838-f27f-4180-a862-8243a45e21ac",
   "metadata": {
    "tags": []
   },
   "outputs": [
    {
     "name": "stdout",
     "output_type": "stream",
     "text": [
      "The zero point is: 0.7391\n"
     ]
    }
   ],
   "source": [
    "zero_point = float(fsolve(xcos,0.75))\n",
    "print(\"The zero point is: {:.4f}\".format(zero_point))"
   ]
  },
  {
   "cell_type": "markdown",
   "id": "cc1de4d9-2f14-4ce5-8a38-adece8433741",
   "metadata": {
    "tags": []
   },
   "source": [
    "# Assignment 2: Implied Volatility Calculation\n",
    "As we know the BS option pricing model is<br/>\n",
    "<center>$C=SN(d_1)-Ke^{-rT}N(d_2)$<br/>\n",
    "    $d_1={ln(\\frac SK)+(r+\\frac {σ^2}{2})T \\over σ\\sqrt{T}}$<br/>\n",
    "    $d_2={ln(\\frac SK)+(r-\\frac {σ^2}{2})T \\over σ\\sqrt{T}}$</center>\n",
    "Meanwhile,<center> $f(σ)=C(σ)-C_0$</center>\n",
    "Hence we could construct the function."
   ]
  },
  {
   "cell_type": "code",
   "execution_count": 21,
   "id": "df6a07fd-01bc-439b-a95b-edcd5749874b",
   "metadata": {},
   "outputs": [],
   "source": [
    "# IV represents the f(σ) above.\n",
    "def IV(sigma,S=100,K=105,r=0.05,T=0.25,C0=3.05):\n",
    "    d1 = (math.log(S/K,math.e)+(r+(sigma**2)/2)*T)/(sigma*math.sqrt(T))\n",
    "    d2 = d1-math.sqrt(T)*sigma\n",
    "    C = S*norm.cdf(d1)-K*math.exp(-r*T)*norm.cdf(d2)\n",
    "    return C-C0"
   ]
  },
  {
   "cell_type": "markdown",
   "id": "92f24f8a-42ee-481b-acb6-f2e62d85f8e4",
   "metadata": {},
   "source": [
    "#### Bisection Method"
   ]
  },
  {
   "cell_type": "code",
   "execution_count": 22,
   "id": "fd6ee4d7-34f7-4196-83ec-1b04d5dd0244",
   "metadata": {
    "tags": []
   },
   "outputs": [
    {
     "name": "stdout",
     "output_type": "stream",
     "text": [
      "    Left Value  Right Value\n",
      "0     0.100000     1.000000\n",
      "1     0.100000     0.550000\n",
      "2     0.100000     0.325000\n",
      "3     0.212500     0.325000\n",
      "4     0.212500     0.268750\n",
      "5     0.212500     0.240625\n",
      "6     0.226563     0.240625\n",
      "7     0.226563     0.233594\n",
      "8     0.226563     0.230078\n",
      "9     0.228320     0.230078\n",
      "10    0.229199     0.230078\n",
      "11    0.229639     0.230078\n",
      "12    0.229858     0.230078\n",
      "13    0.229858     0.229968\n",
      "The zero point is: 0.2299\n"
     ]
    }
   ],
   "source": [
    "zero_point_1 = bisection(IV,0.1,1,0.0001)\n",
    "print(\"The zero point is: {:.4f}\".format(zero_point_1))"
   ]
  },
  {
   "cell_type": "markdown",
   "id": "6c7fb3f4-33c7-41fb-9ef4-687f57562ebc",
   "metadata": {},
   "source": [
    "#### Fixed Point Iteration (Advanced Edition)"
   ]
  },
  {
   "cell_type": "code",
   "execution_count": 23,
   "id": "5f50b145-5330-462d-8309-290a9cece33c",
   "metadata": {
    "tags": []
   },
   "outputs": [],
   "source": [
    "def IV2(sigma):\n",
    "    return IV(sigma)+sigma"
   ]
  },
  {
   "cell_type": "code",
   "execution_count": 24,
   "id": "9094da90-70f6-4024-a406-75accdb1a5e6",
   "metadata": {
    "tags": []
   },
   "outputs": [
    {
     "name": "stdout",
     "output_type": "stream",
     "text": [
      "          x\n",
      "0  1.000000\n",
      "1  0.222839\n",
      "2  0.229880\n",
      "3  0.229869\n",
      "The zero point is: 0.2299\n"
     ]
    }
   ],
   "source": [
    "zero_point_2 = FPI(IV2,1,0.0001)\n",
    "print(\"The zero point is: {:.4f}\".format(zero_point_2))"
   ]
  },
  {
   "cell_type": "markdown",
   "id": "5e3c144f-57b6-4ec4-8067-0ae4e6e15ee8",
   "metadata": {},
   "source": [
    "#### Newton's Method"
   ]
  },
  {
   "cell_type": "code",
   "execution_count": 25,
   "id": "5564ca4f-8917-48a8-9b77-356ee10423a4",
   "metadata": {
    "tags": []
   },
   "outputs": [
    {
     "name": "stdout",
     "output_type": "stream",
     "text": [
      "          x\n",
      "0  1.000000\n",
      "1  0.222839\n",
      "2  0.229880\n",
      "3  0.229869\n",
      "The zero point is: 0.2299\n"
     ]
    }
   ],
   "source": [
    "zero_point_3 = Newton(IV,1,0.0001)\n",
    "print(\"The zero point is: {:.4f}\".format(zero_point_3))"
   ]
  },
  {
   "cell_type": "markdown",
   "id": "c6c4cae3-3579-4aee-ae52-59865b453a2f",
   "metadata": {},
   "source": [
    "#### Secant Method"
   ]
  },
  {
   "cell_type": "code",
   "execution_count": 26,
   "id": "61fd4a70-dfa6-408c-bca6-be91717fe3bb",
   "metadata": {
    "tags": []
   },
   "outputs": [
    {
     "name": "stdout",
     "output_type": "stream",
     "text": [
      "          x\n",
      "0  1.000000\n",
      "1  0.750000\n",
      "2  0.227711\n",
      "3  0.229808\n",
      "4  0.229869\n",
      "The zero point is: 0.2299\n"
     ]
    }
   ],
   "source": [
    "zero_point_4 = Secant(IV,1,0.75,0.0001)\n",
    "print(\"The zero point is: {:.4f}\".format(zero_point_4))"
   ]
  },
  {
   "cell_type": "markdown",
   "id": "11371b10-f63a-4c45-8e7a-76ee9945477c",
   "metadata": {},
   "source": [
    "From the result above we could observe that the speed of Bisection Method is the lowest one,<br/>\n",
    "and other three method have the same convergence speed."
   ]
  }
 ],
 "metadata": {
  "kernelspec": {
   "display_name": "Python 3 (ipykernel)",
   "language": "python",
   "name": "python3"
  },
  "language_info": {
   "codemirror_mode": {
    "name": "ipython",
    "version": 3
   },
   "file_extension": ".py",
   "mimetype": "text/x-python",
   "name": "python",
   "nbconvert_exporter": "python",
   "pygments_lexer": "ipython3",
   "version": "3.11.4"
  }
 },
 "nbformat": 4,
 "nbformat_minor": 5
}
